{
 "cells": [
  {
   "cell_type": "markdown",
   "metadata": {},
   "source": [
    "# 1.13 通过某个关键字排序一个dict list"
   ]
  },
  {
   "cell_type": "markdown",
   "metadata": {},
   "source": [
    "## 有一个dict list 根据某个或某几个dict 字段 来排序"
   ]
  },
  {
   "cell_type": "markdown",
   "metadata": {},
   "source": [
    "### 通过使用 operator 模块的itemgetter函数 可非常容易的排序这样的data structure 假设你从DB 中检索出来网站会员信息列表 并且以下列data structure 返回"
   ]
  },
  {
   "cell_type": "code",
   "execution_count": 4,
   "metadata": {
    "collapsed": false
   },
   "outputs": [
    {
     "name": "stdout",
     "output_type": "stream",
     "text": [
      "[{'lname': 'Jones', 'uid': 1004, 'fname': 'Big'}, {'lname': 'Jones', 'uid': 1003, 'fname': 'Brian'}, {'lname': 'Beazley', 'uid': 1002, 'fname': 'David'}, {'lname': 'Cleese', 'uid': 1001, 'fname': 'John'}] \n",
      "\n",
      "[{'lname': 'Cleese', 'uid': 1001, 'fname': 'John'}, {'lname': 'Beazley', 'uid': 1002, 'fname': 'David'}, {'lname': 'Jones', 'uid': 1003, 'fname': 'Brian'}, {'lname': 'Jones', 'uid': 1004, 'fname': 'Big'}]\n"
     ]
    }
   ],
   "source": [
    "rows = [\n",
    "    {'fname': 'Brian', 'lname': 'Jones', 'uid': 1003},\n",
    "    {'fname': 'David', 'lname': 'Beazley', 'uid': 1002},\n",
    "    {'fname': 'John', 'lname': 'Cleese', 'uid': 1001},\n",
    "    {'fname': 'Big', 'lname': 'Jones', 'uid': 1004}\n",
    "]\n",
    "# 根据任意dict field 来排序输入结果行\n",
    "from operator import itemgetter\n",
    "rows_by_fname = sorted(rows,key=itemgetter('fname'))\n",
    "rows_by_uid = sorted(rows,key=itemgetter('uid'))\n",
    "print(rows_by_fname,'\\n')\n",
    "print(rows_by_uid)"
   ]
  },
  {
   "cell_type": "markdown",
   "metadata": {},
   "source": [
    "### itemgetter function 也支持多个keys"
   ]
  },
  {
   "cell_type": "code",
   "execution_count": 5,
   "metadata": {
    "collapsed": false
   },
   "outputs": [
    {
     "name": "stdout",
     "output_type": "stream",
     "text": [
      "[{'lname': 'Beazley', 'uid': 1002, 'fname': 'David'}, {'lname': 'Cleese', 'uid': 1001, 'fname': 'John'}, {'lname': 'Jones', 'uid': 1004, 'fname': 'Big'}, {'lname': 'Jones', 'uid': 1003, 'fname': 'Brian'}]\n"
     ]
    }
   ],
   "source": [
    "rows_by_lfname = sorted(rows,key=itemgetter('lname','fname'))\n",
    "print(rows_by_lfname)"
   ]
  },
  {
   "cell_type": "markdown",
   "metadata": {},
   "source": [
    "### rows 被传递给接受一个keys 参数的sorted 内置fun 此 参数is callable 类型 并从rows接受一个单一元素 然后返回被用来排序的值 itemgetter 负责创建callable 对象<br>operator.itemgetter func 有一个被rows张的记录用来查找值得index参数 可以是一个dict.key名称 一个 int 值 or 任何能够传入一个object 的__getitem__方法的值 if can 传入多个index 参数给itemgetter 其生成 callable object 来返回一个包含 所有element 值得tuple 并且搜热的函数会根据这个tuple 中element 去排序 "
   ]
  },
  {
   "cell_type": "markdown",
   "metadata": {},
   "source": [
    "### itemgetter 亦可用lambda 来代替"
   ]
  },
  {
   "cell_type": "code",
   "execution_count": 7,
   "metadata": {
    "collapsed": true
   },
   "outputs": [],
   "source": [
    "rows_by_fname = sorted(rows,key=lambda r:r['fname'])\n",
    "rows_by_lfname = sorted(rows,key=lambda r:(r['fname'],r['lname']))\n",
    "# 以上方法 与 itemgetter 类似 主要是 sorted func 中 key argument"
   ]
  },
  {
   "cell_type": "markdown",
   "metadata": {},
   "source": [
    "### 使用itemgetter 方式 运行速度快 性能 要求比较高德话使用itemgetter 同理在sorted 中使用 亦可推广到max min中"
   ]
  },
  {
   "cell_type": "code",
   "execution_count": 8,
   "metadata": {
    "collapsed": false
   },
   "outputs": [
    {
     "name": "stdout",
     "output_type": "stream",
     "text": [
      "{'lname': 'Cleese', 'uid': 1001, 'fname': 'John'} ||\n",
      " {'lname': 'Jones', 'uid': 1004, 'fname': 'Big'}\n"
     ]
    }
   ],
   "source": [
    "mi = min(rows,key=itemgetter('uid'))\n",
    "ma = max(rows,key=itemgetter('uid'))\n",
    "print(mi,'||\\n',ma)"
   ]
  }
 ],
 "metadata": {
  "kernelspec": {
   "display_name": "Python 3",
   "language": "python",
   "name": "python3"
  },
  "language_info": {
   "codemirror_mode": {
    "name": "ipython",
    "version": 3
   },
   "file_extension": ".py",
   "mimetype": "text/x-python",
   "name": "python",
   "nbconvert_exporter": "python",
   "pygments_lexer": "ipython3",
   "version": "3.5.1"
  },
  "widgets": {
   "state": {},
   "version": "1.1.1"
  }
 },
 "nbformat": 4,
 "nbformat_minor": 0
}
